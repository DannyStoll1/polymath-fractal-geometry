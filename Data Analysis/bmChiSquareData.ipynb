{
 "cells": [
  {
   "cell_type": "code",
   "execution_count": 1,
   "id": "8139a20a-25c8-4975-951b-f569624b34e2",
   "metadata": {},
   "outputs": [],
   "source": [
    "#Copyright 2022 Jesse Dimino, Benford's Law Fractal Geometry\n",
    "#Data sets provided by Colin Fang\n",
    "\n",
    "#packages needed to import\n",
    "import os\n",
    "import csv\n",
    "import math\n",
    "import numpy as np # linear algebra\n",
    "from matplotlib import pyplot as plt\n",
    "import matplotlib.colors as mcolors\n",
    "from scipy import stats\n",
    "import pandas as pd\n",
    "from sklearn import linear_model "
   ]
  },
  {
   "cell_type": "code",
   "execution_count": 2,
   "id": "4fc05abf-79a0-4b15-b146-e82120fae1e6",
   "metadata": {},
   "outputs": [],
   "source": [
    "#retruns the nth digit of a number (first digit by default)\n",
    "def digit(num, n=1):\n",
    "    if(num<0):\n",
    "        num*=-1\n",
    "    elif(num == 0):\n",
    "        return 0\n",
    "    while((num<1) & (num>0)):\n",
    "        num*=10\n",
    "    return int(num // 10 ** (int(math.log(num, 10)) - n + 1))"
   ]
  },
  {
   "cell_type": "code",
   "execution_count": 3,
   "id": "3c80f0bd-bf99-4d79-8c70-6797fa7d5c22",
   "metadata": {},
   "outputs": [],
   "source": [
    "#PMF for Benford's law\n",
    "BenfordProb = np.array([np.log10((i+1)/i) for i in range(1,10)])"
   ]
  },
  {
   "cell_type": "code",
   "execution_count": 4,
   "id": "404ee06c-f633-4f61-b5f1-6b2f43c755d4",
   "metadata": {},
   "outputs": [],
   "source": [
    "#get the am and bm datasets\n",
    "bm = pd.read_csv('bm_coeffs_10240_for_df.csv')"
   ]
  },
  {
   "cell_type": "code",
   "execution_count": 5,
   "id": "0bf59ef9-72bb-4ca9-a328-7a7b7eba275f",
   "metadata": {},
   "outputs": [],
   "source": [
    "#drop all the zeros and reorder the indexes\n",
    "bm = bm[bm[\"Numerator\"] != '0']\n",
    "bm = bm.reset_index(drop = True)"
   ]
  },
  {
   "cell_type": "code",
   "execution_count": 6,
   "id": "9c2590d4-719c-4ad3-b08d-7e86d81fb8c4",
   "metadata": {},
   "outputs": [
    {
     "data": {
      "text/plain": [
       "10046"
      ]
     },
     "execution_count": 6,
     "metadata": {},
     "output_type": "execute_result"
    }
   ],
   "source": [
    "#get the number of nonzero data points (i.e. the number of tests performed)\n",
    "len(bm)"
   ]
  },
  {
   "cell_type": "code",
   "execution_count": 7,
   "id": "eb925235-fe06-4c3e-a62b-3055d527b788",
   "metadata": {},
   "outputs": [],
   "source": [
    "#add a column for decimal values\n",
    "bm[\"Decimal\"] = 0\n",
    "for i in range(len(bm)):\n",
    "    bm.at[i,\"Decimal\"] = int(bm.at[i,\"Numerator\"])/int(bm.at[i,\"Denominator\"])"
   ]
  },
  {
   "cell_type": "code",
   "execution_count": 8,
   "id": "65117819-a9de-4720-b5e7-5ffbd48dbc4e",
   "metadata": {},
   "outputs": [],
   "source": [
    "#set our dataframe to be the am coefficient data\n",
    "data = bm.copy()"
   ]
  },
  {
   "cell_type": "code",
   "execution_count": 9,
   "id": "21f9cb5a-cd6d-472a-bd4f-4f4ee593e12b",
   "metadata": {},
   "outputs": [],
   "source": [
    "#vectors to store the occurences of each digit\n",
    "#specifically stores a running total of the observed digits from the data used up to that point\n",
    "obs = pd.DataFrame()\n",
    "obs[\"Num\"] = [0 for i in range(1,10)] \n",
    "obs[\"Den\"] = [0 for i in range(1,10)]\n",
    "obs[\"Dec\"] = [0 for i in range(1,10)]\n",
    "#vectors to store chi square values\n",
    "chisqu = pd.DataFrame()\n",
    "chisqu[\"Num\"] = [0 for i in range(len(data))]\n",
    "chisqu[\"Den\"] = [0 for i in range(len(data))]\n",
    "chisqu[\"Dec\"] = [0 for i in range(len(data))]"
   ]
  },
  {
   "cell_type": "code",
   "execution_count": 10,
   "id": "a879aa64-a559-44e1-a56a-42f774c7d075",
   "metadata": {},
   "outputs": [],
   "source": [
    "#loop to count the occurences of each digit and compute the chi squared statistic for data\n",
    "d = 0\n",
    "for i in range(len(data)):\n",
    "    expec = (i+1)*BenfordProb #expected number of occurences for each digit\n",
    "    d = digit(int(data.at[i,\"Numerator\"])) #get the first digit of the ith data point\n",
    "    obs.at[d-1,\"Num\"] +=1 #increment the index of that digit\n",
    "    chisqu.at[i,\"Num\"] = stats.chisquare(obs[\"Num\"],expec)[0] #compute the chi squared statistic\n",
    "    d = digit(int(data.at[i,\"Denominator\"]))\n",
    "    obs.at[d-1,\"Den\"] +=1\n",
    "    chisqu.at[i,\"Den\"] = stats.chisquare(obs[\"Den\"],expec)[0]\n",
    "    d = digit(float(data.at[i,\"Decimal\"]))\n",
    "    obs.at[d-1,\"Dec\"] +=1\n",
    "    chisqu.at[i,\"Dec\"] = stats.chisquare(obs[\"Dec\"],expec)[0]"
   ]
  },
  {
   "cell_type": "code",
   "execution_count": 12,
   "id": "b63c6c74-a72e-4985-b438-a537295ba95a",
   "metadata": {},
   "outputs": [
    {
     "data": {
      "text/plain": [
       "Num    12.785\n",
       "Den     3.093\n",
       "Dec    51.934\n",
       "Name: 10045, dtype: float64"
      ]
     },
     "execution_count": 12,
     "metadata": {},
     "output_type": "execute_result"
    }
   ],
   "source": [
    "#show the final data rounded to v decimal places\n",
    "v = 3\n",
    "round(chisqu.iloc[len(data)-1],v) "
   ]
  },
  {
   "cell_type": "code",
   "execution_count": 13,
   "id": "b68d4b60-69d8-415d-b45a-2f947c11ad6b",
   "metadata": {},
   "outputs": [],
   "source": [
    "pvals = stats.distributions.chi2.sf(chisqu.iloc[len(data)-1],8)#get the p-values with the associated chi squared values\n",
    "criticalThreshold = stats.chi2.isf(0.05, 8) #original threshold for significance\n",
    "BonferroniCorrection = stats.chi2.isf(0.05/len(data), 8) #final corrected value\n",
    "BonferroniCurve = [stats.chi2.isf(0.05/(i+1), 8) for i in range(len(data))] #Bonferroni Correction Curve for visuals\n",
    "m = [(i+1) for i in range(len(data))] #m for plotting"
   ]
  },
  {
   "cell_type": "code",
   "execution_count": 14,
   "id": "3230ed5a-a039-4fef-9805-6bcf7520ff3d",
   "metadata": {},
   "outputs": [
    {
     "data": {
      "text/plain": [
       "4.977105315548478e-06"
      ]
     },
     "execution_count": 14,
     "metadata": {},
     "output_type": "execute_result"
    }
   ],
   "source": [
    "0.05/len(data) #significance level for individual hypothesis"
   ]
  },
  {
   "cell_type": "code",
   "execution_count": 15,
   "id": "63ffb087-be4a-449d-96f9-1e443017bf9d",
   "metadata": {},
   "outputs": [
    {
     "data": {
      "text/plain": [
       "array([1.19474967e-01, 9.28356721e-01, 1.73324795e-08])"
      ]
     },
     "execution_count": 15,
     "metadata": {},
     "output_type": "execute_result"
    }
   ],
   "source": [
    "pvals #[numerators, denominators, decimals]"
   ]
  },
  {
   "cell_type": "code",
   "execution_count": 16,
   "id": "de2bf183-edb0-46ea-9171-9ac8554fa4ae",
   "metadata": {},
   "outputs": [
    {
     "data": {
      "text/plain": [
       "array([False, False,  True])"
      ]
     },
     "execution_count": 16,
     "metadata": {},
     "output_type": "execute_result"
    }
   ],
   "source": [
    "pvals < 0.05 #whether we reject the null hyopthesis based on the overall test"
   ]
  },
  {
   "cell_type": "code",
   "execution_count": 23,
   "id": "bac7ac00-80ea-4d06-b9d1-7f5f966d747e",
   "metadata": {},
   "outputs": [
    {
     "data": {
      "text/plain": [
       "array([False, False,  True])"
      ]
     },
     "execution_count": 23,
     "metadata": {},
     "output_type": "execute_result"
    }
   ],
   "source": [
    "pvals < (0.05/len(data)) #whether we reject the null hypothesis viewing the tests individually"
   ]
  },
  {
   "cell_type": "code",
   "execution_count": 18,
   "id": "123c5842-b8b0-477b-b0f8-23b65c5b3697",
   "metadata": {},
   "outputs": [
    {
     "data": {
      "text/plain": [
       "15.5073"
      ]
     },
     "execution_count": 18,
     "metadata": {},
     "output_type": "execute_result"
    }
   ],
   "source": [
    "#show the final data rounded to v+1 decimal places\n",
    "round(criticalThreshold,v+1) "
   ]
  },
  {
   "cell_type": "code",
   "execution_count": 19,
   "id": "e6938b80-7b5e-45b1-b17e-f897abdc718f",
   "metadata": {},
   "outputs": [
    {
     "data": {
      "text/plain": [
       "38.9708"
      ]
     },
     "execution_count": 19,
     "metadata": {},
     "output_type": "execute_result"
    }
   ],
   "source": [
    "#show the final data rounded to v+1 decimal places\n",
    "round(BonferroniCorrection,v+1)"
   ]
  },
  {
   "cell_type": "code",
   "execution_count": 20,
   "id": "102920f8-d842-49fe-85e2-4427d24195fa",
   "metadata": {},
   "outputs": [
    {
     "data": {
      "image/png": "[encoded data removed]",
      "text/plain": [
       "<Figure size 432x288 with 1 Axes>"
      ]
     },
     "metadata": {
      "needs_background": "light"
     },
     "output_type": "display_data"
    }
   ],
   "source": [
    "#plot the figure for the data\n",
    "fig, ax = plt.subplots()\n",
    "plt.plot(m,chisqu[\"Num\"])\n",
    "plt.axhline(y=BonferroniCorrection, color = 'r', linestyle = '-.')\n",
    "plt.plot(m,BonferroniCurve,color = 'r', linestyle = ':')\n",
    "plt.axhline(y=criticalThreshold,color = 'r', linestyle = '--')\n",
    "plt.xlabel(\"m\")\n",
    "plt.ylabel(\"$\\chi^2$(m)\")\n",
    "plt.title(\"Distribution of the $\\chi^2$ values for the $b_m$ numerators\")\n",
    "lgd = plt.legend([r\"$\\chi^2$\",\"FBC\",\"BCC\",r'$\\alpha$ = 0.05'], loc = 10, bbox_to_anchor= (0.5,-0.25), ncol= 4)\n",
    "#plt.savefig('ChiSquBMNum.eps', bbox_extra_artists=(lgd,), bbox_inches='tight') #save the figure"
   ]
  },
  {
   "cell_type": "code",
   "execution_count": 21,
   "id": "06312765-84e1-4a8c-814a-42f4a4d3e57b",
   "metadata": {},
   "outputs": [
    {
     "data": {
      "image/png": "[encoded data removed]",
      "text/plain": [
       "<Figure size 432x288 with 1 Axes>"
      ]
     },
     "metadata": {
      "needs_background": "light"
     },
     "output_type": "display_data"
    }
   ],
   "source": [
    "#plot the figure for the data\n",
    "plt.plot(m,chisqu[\"Den\"])\n",
    "plt.axhline(y=BonferroniCorrection, color = 'r', linestyle = '-.')\n",
    "plt.plot(m,BonferroniCurve,color = 'r', linestyle = ':')\n",
    "plt.axhline(y=criticalThreshold,color = 'r', linestyle = '--')\n",
    "plt.xlabel(\"m\")\n",
    "plt.ylabel(\"$\\chi^2$(m)\")\n",
    "plt.title(\"Distribution of the $\\chi^2$ values for the $b_m$ denominators\")\n",
    "lgd = plt.legend([r\"$\\chi^2$\",\"FBC\",\"BCC\",r'$\\alpha$ = 0.05'], loc = 10, bbox_to_anchor= (0.5,-0.25), ncol= 4)\n",
    "#plt.savefig('ChiSquBMDen.eps', bbox_extra_artists=(lgd,), bbox_inches='tight')"
   ]
  },
  {
   "cell_type": "code",
   "execution_count": 22,
   "id": "5e7df948-3e2e-4b03-bcc0-2bb3b1eb9f28",
   "metadata": {},
   "outputs": [
    {
     "data": {
      "image/png": "[encoded data removed]",
      "text/plain": [
       "<Figure size 432x288 with 1 Axes>"
      ]
     },
     "metadata": {
      "needs_background": "light"
     },
     "output_type": "display_data"
    }
   ],
   "source": [
    "#plot the figure for the data\n",
    "plt.plot(m,chisqu[\"Dec\"])\n",
    "plt.axhline(y=BonferroniCorrection, color = 'r', linestyle = '-.')\n",
    "plt.plot(m,BonferroniCurve,color = 'r', linestyle = ':')\n",
    "plt.axhline(y=criticalThreshold,color = 'r', linestyle = '--')\n",
    "plt.xlabel(\"m\")\n",
    "plt.ylabel(\"$\\chi^2$(m)\")\n",
    "plt.title(\"Distribution of the $\\chi^2$ values for the $b_m$ decimal expansions\")\n",
    "lgd = plt.legend([r\"$\\chi^2$\",\"FBC\",\"BCC\",r'$\\alpha$ = 0.05'], loc = 10, bbox_to_anchor= (0.5,-0.25), ncol= 4)\n",
    "#plt.savefig('ChiSquBMDec.eps', bbox_extra_artists=(lgd,), bbox_inches='tight')"
   ]
  }
 ],
 "metadata": {
  "kernelspec": {
   "display_name": "Python 3 (ipykernel)",
   "language": "python",
   "name": "python3"
  },
  "language_info": {
   "codemirror_mode": {
    "name": "ipython",
    "version": 3
   },
   "file_extension": ".py",
   "mimetype": "text/x-python",
   "name": "python",
   "nbconvert_exporter": "python",
   "pygments_lexer": "ipython3",
   "version": "3.8.5"
  }
 },
 "nbformat": 4,
 "nbformat_minor": 5
}

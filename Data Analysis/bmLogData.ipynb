{
 "cells": [
  {
   "cell_type": "code",
   "execution_count": 1,
   "id": "c9fd114a-6cd2-4f5b-b791-ec81b626ae00",
   "metadata": {},
   "outputs": [],
   "source": [
    "#Copyright 2022 Jesse Dimino, Benford's Law Fractal Geometry\n",
    "#Data sets provided by Colin Fang\n",
    "\n",
    "#packages needed to import\n",
    "import os\n",
    "import csv\n",
    "import math\n",
    "import numpy as np # linear algebra\n",
    "from matplotlib import pyplot as plt\n",
    "import matplotlib.colors as mcolors\n",
    "from scipy import stats\n",
    "import pandas as pd"
   ]
  },
  {
   "cell_type": "code",
   "execution_count": 2,
   "id": "f6b4d5fd-a3d8-441a-9aec-27952493b915",
   "metadata": {},
   "outputs": [],
   "source": [
    "#get the dataset\n",
    "bm = pd.read_csv('bm_coeffs_10240_for_df.csv')"
   ]
  },
  {
   "cell_type": "code",
   "execution_count": 3,
   "id": "d9e044de-290c-46b8-9fcf-ca165b57b18e",
   "metadata": {},
   "outputs": [],
   "source": [
    "#drop all the zeros and reorder the indexes\n",
    "bm = bm[bm[\"Numerator\"] != '0']\n",
    "bm = bm.reset_index(drop = True)"
   ]
  },
  {
   "cell_type": "code",
   "execution_count": 4,
   "id": "5558be42-e203-4386-a675-ece51b595803",
   "metadata": {},
   "outputs": [],
   "source": [
    "#add a column for decimal values\n",
    "bm[\"Decimal\"] = 0\n",
    "for i in range(len(bm)):\n",
    "    bm.at[i,\"Decimal\"] = int(bm.at[i,\"Numerator\"])/int(bm.at[i,\"Denominator\"])"
   ]
  },
  {
   "cell_type": "code",
   "execution_count": 5,
   "id": "388801ef-e73b-41ba-bb36-39af072c6259",
   "metadata": {},
   "outputs": [],
   "source": [
    "data = bm.copy()"
   ]
  },
  {
   "cell_type": "code",
   "execution_count": 6,
   "id": "168b0398-00a3-42d7-88f0-9c109513960f",
   "metadata": {},
   "outputs": [],
   "source": [
    "#create a dataframe for the logarithms of the data\n",
    "log = pd.DataFrame()\n",
    "log[\"Num\"] = [0 for i in range(len(data))]\n",
    "log[\"Den\"] = [0 for i in range(len(data))]\n",
    "log[\"Dec\"] = [0 for i in range(len(data))]\n",
    "#create a dataframe for the logarithms of the data modulo 1\n",
    "logmod1 = pd.DataFrame()\n",
    "logmod1[\"Num\"] = 0\n",
    "logmod1[\"Den\"] = 0\n",
    "logmod1[\"Dec\"] = 0"
   ]
  },
  {
   "cell_type": "code",
   "execution_count": 7,
   "id": "416369e6-fb2f-40e9-a9d1-e353c25ce6e4",
   "metadata": {},
   "outputs": [],
   "source": [
    "#generate log data\n",
    "d = 0\n",
    "for i in range(len(data)):\n",
    "    d = abs(int(data.at[i,\"Numerator\"])) #set d equal to the ith data point\n",
    "    d = math.log10(d) #compute its logarithm base 10\n",
    "    log.at[i,'Num'] = d #store that value in the log dataframe\n",
    "    d = d%1 #compute the value of the logarithm modulo 1\n",
    "    logmod1.at[i,'Num'] = d #store that value in the logmod1 dataframe\n",
    "    d = abs(int(data.at[i,\"Denominator\"]))\n",
    "    d = math.log10(d)\n",
    "    log.at[i,'Den'] = d\n",
    "    d = d%1\n",
    "    logmod1.at[i,'Den'] = d\n",
    "    d = abs(float(data.at[i,\"Decimal\"]))\n",
    "    d = math.log10(d)\n",
    "    log.at[i,'Dec'] = d\n",
    "    d=d%1\n",
    "    logmod1.at[i,'Dec'] = d"
   ]
  },
  {
   "cell_type": "code",
   "execution_count": 8,
   "id": "6b17247c-e184-41e4-a805-d33e21e2c661",
   "metadata": {},
   "outputs": [
    {
     "name": "stdout",
     "output_type": "stream",
     "text": [
      "1899.284 1793.752\n",
      "1904.132 1793.994\n",
      "-4.848 0.689\n"
     ]
    }
   ],
   "source": [
    "#print the mean and standard deviation rounded to v decimal places\n",
    "v = 3\n",
    "print(round(log[\"Num\"].mean(),v),round(log[\"Num\"].std(),v))\n",
    "print(round(log[\"Den\"].mean(),v),round(log[\"Den\"].std(),v))\n",
    "print(round(log[\"Dec\"].mean(),v),round(log[\"Dec\"].std(),v))"
   ]
  },
  {
   "cell_type": "code",
   "execution_count": 9,
   "id": "0ab2f8e1-b4a7-43c6-a0e5-ab37f0c39d03",
   "metadata": {},
   "outputs": [],
   "source": [
    "#initialize bins for the histograms\n",
    "x = np.linspace(0,1,11)"
   ]
  },
  {
   "cell_type": "code",
   "execution_count": 10,
   "id": "50e643bc-92a8-4060-a0c2-ad8e9d16ab97",
   "metadata": {},
   "outputs": [
    {
     "data": {
      "text/plain": [
       "Text(0, 0.5, 'pdf')"
      ]
     },
     "execution_count": 10,
     "metadata": {},
     "output_type": "execute_result"
    },
    {
     "data": {
      "image/png": "[encoded data removed]",
      "text/plain": [
       "<Figure size 432x288 with 1 Axes>"
      ]
     },
     "metadata": {
      "needs_background": "light"
     },
     "output_type": "display_data"
    }
   ],
   "source": [
    "#plot the histograms for the data\n",
    "fig, ax = plt.subplots()\n",
    "plt.hist(logmod1['Num'],x,edgecolor = 'k',density=True)\n",
    "ax.set_xticks(x, labels=['0.0', '0.1', '0.2', '0.3', '0.4','0.5','0.6','0.7','0.8','0.9','1.0'])\n",
    "plt.title(\"PDF for $\\log_{10}{|b_m|}$ numerators modulo 1\")\n",
    "plt.xlabel('interval')\n",
    "plt.ylabel('pdf')\n",
    "#plt.savefig('PDFLogBMNum.eps') #save the figure"
   ]
  },
  {
   "cell_type": "code",
   "execution_count": 11,
   "id": "f6e3fe3c-bf58-42da-a55d-a7830189715b",
   "metadata": {},
   "outputs": [
    {
     "data": {
      "text/plain": [
       "Text(0, 0.5, 'pdf')"
      ]
     },
     "execution_count": 11,
     "metadata": {},
     "output_type": "execute_result"
    },
    {
     "data": {
      "image/png": "[encoded data removed]",
      "text/plain": [
       "<Figure size 432x288 with 1 Axes>"
      ]
     },
     "metadata": {
      "needs_background": "light"
     },
     "output_type": "display_data"
    }
   ],
   "source": [
    "#plot the histograms for the data\n",
    "fig, ax = plt.subplots()\n",
    "plt.hist(logmod1['Den'],x,edgecolor = 'k',density=True)\n",
    "ax.set_xticks(x, labels=['0.0', '0.1', '0.2', '0.3', '0.4','0.5','0.6','0.7','0.8','0.9','1.0'])\n",
    "plt.title(\"PDF for $\\log_{10}{|b_m|}$ denominators modulo 1\")\n",
    "plt.xlabel('interval')\n",
    "plt.ylabel('pdf')\n",
    "#plt.savefig('PDFLogBMDen.eps') "
   ]
  },
  {
   "cell_type": "code",
   "execution_count": 12,
   "id": "5bdac3a6-b78c-4fe7-a2b4-47eb17d9e460",
   "metadata": {},
   "outputs": [
    {
     "data": {
      "text/plain": [
       "Text(0, 0.5, 'pdf')"
      ]
     },
     "execution_count": 12,
     "metadata": {},
     "output_type": "execute_result"
    },
    {
     "data": {
      "image/png": "[encoded data removed]",
      "text/plain": [
       "<Figure size 432x288 with 1 Axes>"
      ]
     },
     "metadata": {
      "needs_background": "light"
     },
     "output_type": "display_data"
    }
   ],
   "source": [
    "#plot the histograms for the data\n",
    "fig, ax = plt.subplots()\n",
    "plt.hist(logmod1['Dec'],x,edgecolor = 'k',density=True)\n",
    "ax.set_xticks(x, labels=['0.0', '0.1', '0.2', '0.3', '0.4','0.5','0.6','0.7','0.8','0.9','1.0'])\n",
    "plt.title(\"PDF for $\\log_{10}{|b_m|}$ decimal expansions modulo 1\")\n",
    "plt.xlabel('interval')\n",
    "plt.ylabel('pdf')\n",
    "#plt.savefig('PDFLogBMDec.eps')"
   ]
  }
 ],
 "metadata": {
  "kernelspec": {
   "display_name": "Python 3 (ipykernel)",
   "language": "python",
   "name": "python3"
  },
  "language_info": {
   "codemirror_mode": {
    "name": "ipython",
    "version": 3
   },
   "file_extension": ".py",
   "mimetype": "text/x-python",
   "name": "python",
   "nbconvert_exporter": "python",
   "pygments_lexer": "ipython3",
   "version": "3.8.5"
  }
 },
 "nbformat": 4,
 "nbformat_minor": 5
}
